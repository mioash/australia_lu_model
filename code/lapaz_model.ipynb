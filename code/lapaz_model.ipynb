{
 "cells": [
  {
   "cell_type": "code",
   "execution_count": 2,
   "metadata": {
    "ExecuteTime": {
     "end_time": "2021-03-25T00:21:28.379480Z",
     "start_time": "2021-03-25T00:21:19.171944Z"
    }
   },
   "outputs": [],
   "source": [
    "import ee\n",
    "from ee import batch\n",
    "\n",
    "ee.Initialize()\n",
    "import geemap\n",
    "import numpy as np\n",
    "import matplotlib.pyplot as plt\n",
    "from numpy import asarray\n",
    "from numpy import savetxt\n",
    "import pandas as pd\n",
    "from numpy.random import randn\n",
    "from numpy.random import seed\n",
    "from scipy.stats import spearmanr"
   ]
  },
  {
   "cell_type": "code",
   "execution_count": null,
   "metadata": {},
   "outputs": [],
   "source": [
    "user_id = geemap.ee_user_id()\n",
    "print(user_id)"
   ]
  },
  {
   "cell_type": "code",
   "execution_count": 3,
   "metadata": {
    "ExecuteTime": {
     "end_time": "2021-03-25T00:21:32.266776Z",
     "start_time": "2021-03-25T00:21:31.703604Z"
    }
   },
   "outputs": [
    {
     "name": "stdout",
     "output_type": "stream",
     "text": [
      "['VV', 'angle', 'B1', 'B2', 'B3', 'B4', 'B5', 'B6', 'B7', 'B8', 'B8A', 'B9', 'B10', 'B11', 'B12', 'QA10', 'QA20', 'QA60', 'S2_gndvi', 'S2_ndvi', 'S2_ndre1', 'S2_nrer1', 'S2_nreg1', 'S2_grvi', 'S2_evi', 'S2_evi2', 'S2_savi', 'S2_osavi', 'S2_rvi', 'S2_bsi', 'S2_dvi', 'S2_satvi', 'S2_msavi2', 'S2_ndi45', 'S2_lai', 'S2_ireci']\n"
     ]
    }
   ],
   "source": [
    "s2 = ee.ImageCollection(\"COPERNICUS/S2\"),\n",
    "s1 = ee.ImageCollection(\"COPERNICUS/S1_GRD\"),\n",
    "srtm = ee.Image(\"USGS/SRTMGL1_003\")\n",
    "luse = ee.FeatureCollection(\"users/verdemuskuna/cc/LA_PAZ_landuse\")\n",
    "m2016 = ee.FeatureCollection(\"users/verdemuskuna/cc/Field_plots_measured_2016\")\n",
    "lp = ee.Image('users/verdemuskuna/cc/lapaz_2017_v1')\n",
    "#s2_ind = require(\"users/verdemuskuna/modules:s2_ind\") \n",
    "#s1_load = require(\"users/verdemuskuna/modules:s1_load\")\n",
    "\n",
    "print(lp.bandNames().getInfo())\n",
    "def c_buffer (fc):\n",
    "    return fc.buffer(12.62)\n",
    "\n",
    "circ = m2016.map(c_buffer)\n",
    "bbands = lp.bandNames().getInfo()\n",
    "\n",
    "def myproperties(feature):\n",
    "  feature=ee.Feature(feature).setGeometry(None)\n",
    "  return feature"
   ]
  },
  {
   "cell_type": "code",
   "execution_count": 4,
   "metadata": {
    "ExecuteTime": {
     "end_time": "2021-03-25T00:21:39.117410Z",
     "start_time": "2021-03-25T00:21:37.662127Z"
    }
   },
   "outputs": [
    {
     "data": {
      "application/vnd.jupyter.widget-view+json": {
       "model_id": "fcb090f6dcba46d7ba1c9ace866beb27",
       "version_major": 2,
       "version_minor": 0
      },
      "text/plain": [
       "Map(center=[6.08408, -68.14201], controls=(WidgetControl(options=['position'], widget=HBox(children=(ToggleBut…"
      ]
     },
     "metadata": {},
     "output_type": "display_data"
    }
   ],
   "source": [
    "Map = geemap.Map(center=[6.08408,-68.14201], zoom=14)\n",
    "\n",
    "Map.add_basemap(\"SATELLITE\")\n",
    "\n",
    "Landcover_vispar = {'bands':['lc_dep'],\"opacity\":1,\"min\":0,\"max\":5,\"palette\":[\"FFEE88\",\"55AA22\",\"DDCC66\",\"BB0011\",\"5566AA\",\"882255\"]}\n",
    "Map.addLayer(lp,{'bands':['B4','B3','B2'],\"min\":0.05,\"max\":0.13},'S2')\n",
    "Map.addLayer(circ,'', 'Plots')\n",
    "\n",
    "Map"
   ]
  },
  {
   "cell_type": "code",
   "execution_count": 31,
   "metadata": {
    "ExecuteTime": {
     "end_time": "2021-03-25T01:57:19.690760Z",
     "start_time": "2021-03-25T01:57:19.159593Z"
    },
    "hide_input": false
   },
   "outputs": [],
   "source": [
    "ssamples = lp.reduceRegions(reducer='mean',\n",
    "                            collection=circ,\n",
    "                            scale=10,\n",
    "                            tileScale=2)\n",
    "\n",
    "ssamples = ssamples.map(myproperties).toList(ssamples.size())\n",
    "\n",
    "b_f = bbands + ['Age'] + ['DBH__cm_'] + ['HT__m_'] + ['BA__m2_'] + ['VT__m3_']# + ['Year___Plo']\n",
    "\n",
    "#ee.batch.Export.table.toDrive(collection=ssamples,\n",
    "#                              description='la_paz_v1').start()\n",
    "\n",
    "#vat = np.array((ee.Array(ssamples.get(bbands[3])).getInfo()))\n",
    "def tar(el):\n",
    "    return ee.Feature(el).toArray(b_f)\n",
    "\n",
    "\n",
    "tableList = ssamples.map(tar)\n",
    "\n",
    "matA = ee.Array.cat(tableList, 1)\n",
    "\n",
    "dsr = np.array(matA.getInfo()).transpose()\n",
    "\n",
    "# print(dsr)\n",
    "#plots_pd = pd.DataFrame(data=dsr, columns=b_f)\n"
   ]
  },
  {
   "cell_type": "code",
   "execution_count": 32,
   "metadata": {
    "ExecuteTime": {
     "end_time": "2021-03-25T01:57:28.489996Z",
     "start_time": "2021-03-25T01:57:28.410883Z"
    }
   },
   "outputs": [
    {
     "data": {
      "text/html": [
       "<div>\n",
       "<style scoped>\n",
       "    .dataframe tbody tr th:only-of-type {\n",
       "        vertical-align: middle;\n",
       "    }\n",
       "\n",
       "    .dataframe tbody tr th {\n",
       "        vertical-align: top;\n",
       "    }\n",
       "\n",
       "    .dataframe thead th {\n",
       "        text-align: right;\n",
       "    }\n",
       "</style>\n",
       "<table border=\"1\" class=\"dataframe\">\n",
       "  <thead>\n",
       "    <tr style=\"text-align: right;\">\n",
       "      <th></th>\n",
       "      <th>VV</th>\n",
       "      <th>angle</th>\n",
       "      <th>B1</th>\n",
       "      <th>B2</th>\n",
       "      <th>B3</th>\n",
       "      <th>B4</th>\n",
       "      <th>B5</th>\n",
       "      <th>B6</th>\n",
       "      <th>B7</th>\n",
       "      <th>B8</th>\n",
       "      <th>...</th>\n",
       "      <th>S2_satvi</th>\n",
       "      <th>S2_msavi2</th>\n",
       "      <th>S2_ndi45</th>\n",
       "      <th>S2_lai</th>\n",
       "      <th>S2_ireci</th>\n",
       "      <th>Age</th>\n",
       "      <th>DBH__cm_</th>\n",
       "      <th>HT__m_</th>\n",
       "      <th>BA__m2_</th>\n",
       "      <th>VT__m3_</th>\n",
       "    </tr>\n",
       "  </thead>\n",
       "  <tbody>\n",
       "    <tr>\n",
       "      <th>0</th>\n",
       "      <td>-11.419370</td>\n",
       "      <td>40.192962</td>\n",
       "      <td>0.120800</td>\n",
       "      <td>0.087729</td>\n",
       "      <td>0.074498</td>\n",
       "      <td>0.046482</td>\n",
       "      <td>0.073387</td>\n",
       "      <td>0.219145</td>\n",
       "      <td>0.295043</td>\n",
       "      <td>0.272070</td>\n",
       "      <td>...</td>\n",
       "      <td>0.158700</td>\n",
       "      <td>0.891343</td>\n",
       "      <td>0.224452</td>\n",
       "      <td>0.111291</td>\n",
       "      <td>0.742525</td>\n",
       "      <td>3.0</td>\n",
       "      <td>8.73</td>\n",
       "      <td>11.62</td>\n",
       "      <td>9.32</td>\n",
       "      <td>55.95</td>\n",
       "    </tr>\n",
       "    <tr>\n",
       "      <th>1</th>\n",
       "      <td>-9.399990</td>\n",
       "      <td>40.180228</td>\n",
       "      <td>0.160300</td>\n",
       "      <td>0.119693</td>\n",
       "      <td>0.105376</td>\n",
       "      <td>0.085634</td>\n",
       "      <td>0.112566</td>\n",
       "      <td>0.255593</td>\n",
       "      <td>0.329830</td>\n",
       "      <td>0.304372</td>\n",
       "      <td>...</td>\n",
       "      <td>0.170062</td>\n",
       "      <td>0.847342</td>\n",
       "      <td>0.139422</td>\n",
       "      <td>-0.063632</td>\n",
       "      <td>0.557376</td>\n",
       "      <td>3.0</td>\n",
       "      <td>8.40</td>\n",
       "      <td>11.29</td>\n",
       "      <td>9.15</td>\n",
       "      <td>53.89</td>\n",
       "    </tr>\n",
       "    <tr>\n",
       "      <th>2</th>\n",
       "      <td>-10.855146</td>\n",
       "      <td>40.256384</td>\n",
       "      <td>0.122352</td>\n",
       "      <td>0.091283</td>\n",
       "      <td>0.081400</td>\n",
       "      <td>0.049784</td>\n",
       "      <td>0.080843</td>\n",
       "      <td>0.253377</td>\n",
       "      <td>0.338413</td>\n",
       "      <td>0.308777</td>\n",
       "      <td>...</td>\n",
       "      <td>0.141678</td>\n",
       "      <td>0.939788</td>\n",
       "      <td>0.237712</td>\n",
       "      <td>0.214469</td>\n",
       "      <td>0.904562</td>\n",
       "      <td>3.0</td>\n",
       "      <td>8.50</td>\n",
       "      <td>11.31</td>\n",
       "      <td>10.14</td>\n",
       "      <td>60.33</td>\n",
       "    </tr>\n",
       "    <tr>\n",
       "      <th>3</th>\n",
       "      <td>-10.339308</td>\n",
       "      <td>40.243591</td>\n",
       "      <td>0.120325</td>\n",
       "      <td>0.089471</td>\n",
       "      <td>0.078188</td>\n",
       "      <td>0.046499</td>\n",
       "      <td>0.077523</td>\n",
       "      <td>0.240422</td>\n",
       "      <td>0.331506</td>\n",
       "      <td>0.307350</td>\n",
       "      <td>...</td>\n",
       "      <td>0.145451</td>\n",
       "      <td>0.946616</td>\n",
       "      <td>0.250147</td>\n",
       "      <td>0.204739</td>\n",
       "      <td>0.883961</td>\n",
       "      <td>3.0</td>\n",
       "      <td>7.82</td>\n",
       "      <td>10.92</td>\n",
       "      <td>8.66</td>\n",
       "      <td>50.51</td>\n",
       "    </tr>\n",
       "    <tr>\n",
       "      <th>4</th>\n",
       "      <td>-11.429912</td>\n",
       "      <td>40.290441</td>\n",
       "      <td>0.121900</td>\n",
       "      <td>0.092538</td>\n",
       "      <td>0.081850</td>\n",
       "      <td>0.050358</td>\n",
       "      <td>0.079961</td>\n",
       "      <td>0.248756</td>\n",
       "      <td>0.322662</td>\n",
       "      <td>0.281824</td>\n",
       "      <td>...</td>\n",
       "      <td>0.146216</td>\n",
       "      <td>0.896462</td>\n",
       "      <td>0.227168</td>\n",
       "      <td>0.188514</td>\n",
       "      <td>0.849151</td>\n",
       "      <td>3.0</td>\n",
       "      <td>8.25</td>\n",
       "      <td>11.28</td>\n",
       "      <td>8.86</td>\n",
       "      <td>52.52</td>\n",
       "    </tr>\n",
       "    <tr>\n",
       "      <th>5</th>\n",
       "      <td>-9.712507</td>\n",
       "      <td>40.277030</td>\n",
       "      <td>0.120254</td>\n",
       "      <td>0.090805</td>\n",
       "      <td>0.077237</td>\n",
       "      <td>0.050440</td>\n",
       "      <td>0.079247</td>\n",
       "      <td>0.238809</td>\n",
       "      <td>0.328635</td>\n",
       "      <td>0.304062</td>\n",
       "      <td>...</td>\n",
       "      <td>0.150892</td>\n",
       "      <td>0.930864</td>\n",
       "      <td>0.222110</td>\n",
       "      <td>0.160424</td>\n",
       "      <td>0.838373</td>\n",
       "      <td>3.0</td>\n",
       "      <td>8.30</td>\n",
       "      <td>11.14</td>\n",
       "      <td>8.82</td>\n",
       "      <td>51.79</td>\n",
       "    </tr>\n",
       "    <tr>\n",
       "      <th>6</th>\n",
       "      <td>-12.495167</td>\n",
       "      <td>40.304202</td>\n",
       "      <td>0.123362</td>\n",
       "      <td>0.090860</td>\n",
       "      <td>0.080952</td>\n",
       "      <td>0.050998</td>\n",
       "      <td>0.083362</td>\n",
       "      <td>0.236670</td>\n",
       "      <td>0.318355</td>\n",
       "      <td>0.279963</td>\n",
       "      <td>...</td>\n",
       "      <td>0.155709</td>\n",
       "      <td>0.891889</td>\n",
       "      <td>0.240480</td>\n",
       "      <td>0.141043</td>\n",
       "      <td>0.758970</td>\n",
       "      <td>3.0</td>\n",
       "      <td>7.96</td>\n",
       "      <td>10.81</td>\n",
       "      <td>8.78</td>\n",
       "      <td>51.16</td>\n",
       "    </tr>\n",
       "    <tr>\n",
       "      <th>7</th>\n",
       "      <td>-10.661225</td>\n",
       "      <td>40.305519</td>\n",
       "      <td>0.120581</td>\n",
       "      <td>0.098822</td>\n",
       "      <td>0.088916</td>\n",
       "      <td>0.060107</td>\n",
       "      <td>0.090321</td>\n",
       "      <td>0.238460</td>\n",
       "      <td>0.322413</td>\n",
       "      <td>0.296664</td>\n",
       "      <td>...</td>\n",
       "      <td>0.143241</td>\n",
       "      <td>0.894745</td>\n",
       "      <td>0.200963</td>\n",
       "      <td>0.099967</td>\n",
       "      <td>0.692572</td>\n",
       "      <td>3.0</td>\n",
       "      <td>7.76</td>\n",
       "      <td>10.67</td>\n",
       "      <td>8.83</td>\n",
       "      <td>51.02</td>\n",
       "    </tr>\n",
       "    <tr>\n",
       "      <th>8</th>\n",
       "      <td>-10.359608</td>\n",
       "      <td>40.292983</td>\n",
       "      <td>0.121664</td>\n",
       "      <td>0.090845</td>\n",
       "      <td>0.079013</td>\n",
       "      <td>0.047642</td>\n",
       "      <td>0.076816</td>\n",
       "      <td>0.243766</td>\n",
       "      <td>0.333680</td>\n",
       "      <td>0.307390</td>\n",
       "      <td>...</td>\n",
       "      <td>0.126513</td>\n",
       "      <td>0.943551</td>\n",
       "      <td>0.234452</td>\n",
       "      <td>0.234474</td>\n",
       "      <td>0.907755</td>\n",
       "      <td>3.0</td>\n",
       "      <td>7.75</td>\n",
       "      <td>10.64</td>\n",
       "      <td>8.14</td>\n",
       "      <td>46.96</td>\n",
       "    </tr>\n",
       "    <tr>\n",
       "      <th>9</th>\n",
       "      <td>-9.829164</td>\n",
       "      <td>40.302231</td>\n",
       "      <td>0.121700</td>\n",
       "      <td>0.090656</td>\n",
       "      <td>0.080480</td>\n",
       "      <td>0.047874</td>\n",
       "      <td>0.082104</td>\n",
       "      <td>0.250332</td>\n",
       "      <td>0.337502</td>\n",
       "      <td>0.312919</td>\n",
       "      <td>...</td>\n",
       "      <td>0.150129</td>\n",
       "      <td>0.951316</td>\n",
       "      <td>0.263378</td>\n",
       "      <td>0.202200</td>\n",
       "      <td>0.883134</td>\n",
       "      <td>3.0</td>\n",
       "      <td>7.76</td>\n",
       "      <td>10.93</td>\n",
       "      <td>8.01</td>\n",
       "      <td>46.95</td>\n",
       "    </tr>\n",
       "  </tbody>\n",
       "</table>\n",
       "<p>10 rows × 41 columns</p>\n",
       "</div>"
      ],
      "text/plain": [
       "          VV      angle        B1        B2        B3        B4        B5  \\\n",
       "0 -11.419370  40.192962  0.120800  0.087729  0.074498  0.046482  0.073387   \n",
       "1  -9.399990  40.180228  0.160300  0.119693  0.105376  0.085634  0.112566   \n",
       "2 -10.855146  40.256384  0.122352  0.091283  0.081400  0.049784  0.080843   \n",
       "3 -10.339308  40.243591  0.120325  0.089471  0.078188  0.046499  0.077523   \n",
       "4 -11.429912  40.290441  0.121900  0.092538  0.081850  0.050358  0.079961   \n",
       "5  -9.712507  40.277030  0.120254  0.090805  0.077237  0.050440  0.079247   \n",
       "6 -12.495167  40.304202  0.123362  0.090860  0.080952  0.050998  0.083362   \n",
       "7 -10.661225  40.305519  0.120581  0.098822  0.088916  0.060107  0.090321   \n",
       "8 -10.359608  40.292983  0.121664  0.090845  0.079013  0.047642  0.076816   \n",
       "9  -9.829164  40.302231  0.121700  0.090656  0.080480  0.047874  0.082104   \n",
       "\n",
       "         B6        B7        B8  ...  S2_satvi  S2_msavi2  S2_ndi45    S2_lai  \\\n",
       "0  0.219145  0.295043  0.272070  ...  0.158700   0.891343  0.224452  0.111291   \n",
       "1  0.255593  0.329830  0.304372  ...  0.170062   0.847342  0.139422 -0.063632   \n",
       "2  0.253377  0.338413  0.308777  ...  0.141678   0.939788  0.237712  0.214469   \n",
       "3  0.240422  0.331506  0.307350  ...  0.145451   0.946616  0.250147  0.204739   \n",
       "4  0.248756  0.322662  0.281824  ...  0.146216   0.896462  0.227168  0.188514   \n",
       "5  0.238809  0.328635  0.304062  ...  0.150892   0.930864  0.222110  0.160424   \n",
       "6  0.236670  0.318355  0.279963  ...  0.155709   0.891889  0.240480  0.141043   \n",
       "7  0.238460  0.322413  0.296664  ...  0.143241   0.894745  0.200963  0.099967   \n",
       "8  0.243766  0.333680  0.307390  ...  0.126513   0.943551  0.234452  0.234474   \n",
       "9  0.250332  0.337502  0.312919  ...  0.150129   0.951316  0.263378  0.202200   \n",
       "\n",
       "   S2_ireci  Age  DBH__cm_  HT__m_  BA__m2_  VT__m3_  \n",
       "0  0.742525  3.0      8.73   11.62     9.32    55.95  \n",
       "1  0.557376  3.0      8.40   11.29     9.15    53.89  \n",
       "2  0.904562  3.0      8.50   11.31    10.14    60.33  \n",
       "3  0.883961  3.0      7.82   10.92     8.66    50.51  \n",
       "4  0.849151  3.0      8.25   11.28     8.86    52.52  \n",
       "5  0.838373  3.0      8.30   11.14     8.82    51.79  \n",
       "6  0.758970  3.0      7.96   10.81     8.78    51.16  \n",
       "7  0.692572  3.0      7.76   10.67     8.83    51.02  \n",
       "8  0.907755  3.0      7.75   10.64     8.14    46.96  \n",
       "9  0.883134  3.0      7.76   10.93     8.01    46.95  \n",
       "\n",
       "[10 rows x 41 columns]"
      ]
     },
     "execution_count": 32,
     "metadata": {},
     "output_type": "execute_result"
    }
   ],
   "source": [
    "plots_pd = pd.DataFrame(data=dsr, columns=b_f)\n",
    "\n",
    "plots_pd.head(10)"
   ]
  },
  {
   "cell_type": "code",
   "execution_count": 106,
   "metadata": {
    "ExecuteTime": {
     "end_time": "2021-03-25T04:26:56.899715Z",
     "start_time": "2021-03-25T04:26:55.453444Z"
    }
   },
   "outputs": [
    {
     "name": "stdout",
     "output_type": "stream",
     "text": [
      "VV correlation: 0.027\n",
      "angle correlation: 0.436\n",
      "B1 correlation: -0.399\n",
      "B2 correlation: -0.417\n",
      "B3 correlation: -0.331\n",
      "B4 correlation: -0.546\n",
      "B5 correlation: -0.483\n",
      "B6 correlation: 0.279\n",
      "B7 correlation: 0.377\n",
      "B8 correlation: 0.359\n",
      "B8A correlation: 0.348\n",
      "B9 correlation: 0.116\n",
      "B10 correlation: -0.219\n",
      "B11 correlation: -0.606\n",
      "B12 correlation: -0.582\n",
      "QA10 correlation: nan\n",
      "QA20 correlation: nan\n",
      "QA60 correlation: nan\n",
      "S2_gndvi correlation: 0.404\n",
      "S2_ndvi correlation: 0.475\n",
      "S2_ndre1 correlation: -0.115\n",
      "S2_nrer1 correlation: 0.472\n",
      "S2_nreg1 correlation: 0.409\n",
      "S2_grvi correlation: 0.544\n",
      "S2_evi correlation: 0.440\n",
      "S2_evi2 correlation: 0.408\n",
      "S2_savi correlation: 0.412\n",
      "S2_osavi correlation: 0.432\n",
      "S2_rvi correlation: 0.473\n",
      "S2_bsi correlation: nan\n",
      "S2_dvi correlation: 0.394\n",
      "S2_satvi correlation: -0.601\n",
      "S2_msavi2 correlation: 0.405\n",
      "S2_ndi45 correlation: 0.362\n",
      "S2_lai correlation: 0.550\n",
      "S2_ireci correlation: 0.442\n",
      "Age correlation: -0.061\n",
      "DBH__cm_ correlation: 0.292\n",
      "HT__m_ correlation: 0.518\n",
      "BA__m2_ correlation: 0.854\n"
     ]
    },
    {
     "name": "stderr",
     "output_type": "stream",
     "text": [
      "C:\\Users\\mcalderonloor\\Anaconda3\\lib\\site-packages\\numpy\\lib\\function_base.py:2534: RuntimeWarning: invalid value encountered in true_divide\n",
      "  c /= stddev[:, None]\n",
      "C:\\Users\\mcalderonloor\\Anaconda3\\lib\\site-packages\\numpy\\lib\\function_base.py:2535: RuntimeWarning: invalid value encountered in true_divide\n",
      "  c /= stddev[None, :]\n",
      "C:\\Users\\mcalderonloor\\Anaconda3\\lib\\site-packages\\scipy\\stats\\_distn_infrastructure.py:903: RuntimeWarning: invalid value encountered in greater\n",
      "  return (a < x) & (x < b)\n",
      "C:\\Users\\mcalderonloor\\Anaconda3\\lib\\site-packages\\scipy\\stats\\_distn_infrastructure.py:903: RuntimeWarning: invalid value encountered in less\n",
      "  return (a < x) & (x < b)\n",
      "C:\\Users\\mcalderonloor\\Anaconda3\\lib\\site-packages\\scipy\\stats\\_distn_infrastructure.py:1912: RuntimeWarning: invalid value encountered in less_equal\n",
      "  cond2 = cond0 & (x <= _a)\n"
     ]
    },
    {
     "data": {
      "image/png": "[encoded data removed]",
      "text/plain": [
       "<Figure size 1440x720 with 2 Axes>"
      ]
     },
     "metadata": {
      "needs_background": "light"
     },
     "output_type": "display_data"
    }
   ],
   "source": [
    "# seed random number generator\n",
    "#seed(15)\n",
    "# prepare data\n",
    "# calculate spearman's correlation\n",
    "cormat = plots_pd.drop(['angle','QA10','QA20','QA60'], axis = 1).corr()\n",
    "#print(round(cormat,2))\n",
    "import seaborn as sns\n",
    "sns.heatmap(cormat);\n",
    "for i in range(0,40):\n",
    "    corr, _ = spearmanr(dsr[:,i], dsr[:,40])\n",
    "    print(b_f[i],'correlation: %.3f' % corr)"
   ]
  },
  {
   "cell_type": "code",
   "execution_count": 109,
   "metadata": {
    "ExecuteTime": {
     "end_time": "2021-03-25T13:43:01.708778Z",
     "start_time": "2021-03-25T13:43:01.476400Z"
    }
   },
   "outputs": [
    {
     "name": "stdout",
     "output_type": "stream",
     "text": [
      "VV correlation: 0.075\n",
      "angle correlation: 0.422\n",
      "B1 correlation: -0.411\n",
      "B2 correlation: -0.385\n",
      "B3 correlation: -0.292\n",
      "B4 correlation: -0.533\n",
      "B5 correlation: -0.454\n",
      "B6 correlation: 0.356\n",
      "B7 correlation: 0.459\n",
      "B8 correlation: 0.439\n",
      "B8A correlation: 0.429\n",
      "B9 correlation: 0.183\n",
      "B10 correlation: -0.223\n",
      "B11 correlation: -0.599\n",
      "B12 correlation: -0.583\n",
      "QA10 correlation: nan\n",
      "QA20 correlation: nan\n",
      "QA60 correlation: nan\n",
      "S2_gndvi correlation: 0.473\n",
      "S2_ndvi correlation: 0.522\n",
      "S2_ndre1 correlation: -0.156\n",
      "S2_nrer1 correlation: 0.521\n",
      "S2_nreg1 correlation: 0.479\n",
      "S2_grvi correlation: 0.555\n",
      "S2_evi correlation: 0.512\n",
      "S2_evi2 correlation: 0.481\n",
      "S2_savi correlation: 0.484\n",
      "S2_osavi correlation: 0.503\n",
      "S2_rvi correlation: 0.520\n",
      "S2_bsi correlation: nan\n",
      "S2_dvi correlation: 0.470\n",
      "S2_satvi correlation: -0.597\n",
      "S2_msavi2 correlation: 0.478\n",
      "S2_ndi45 correlation: 0.387\n",
      "S2_lai correlation: 0.581\n",
      "S2_ireci correlation: 0.515\n",
      "Age correlation: -0.120\n",
      "DBH__cm_ correlation: 0.249\n",
      "HT__m_ correlation: 0.524\n",
      "BA__m2_ correlation: 0.954\n"
     ]
    },
    {
     "name": "stderr",
     "output_type": "stream",
     "text": [
      "C:\\Users\\mcalderonloor\\Anaconda3\\lib\\site-packages\\numpy\\lib\\function_base.py:2534: RuntimeWarning: invalid value encountered in true_divide\n",
      "  c /= stddev[:, None]\n",
      "C:\\Users\\mcalderonloor\\Anaconda3\\lib\\site-packages\\numpy\\lib\\function_base.py:2535: RuntimeWarning: invalid value encountered in true_divide\n",
      "  c /= stddev[None, :]\n",
      "C:\\Users\\mcalderonloor\\Anaconda3\\lib\\site-packages\\scipy\\stats\\_distn_infrastructure.py:903: RuntimeWarning: invalid value encountered in greater\n",
      "  return (a < x) & (x < b)\n",
      "C:\\Users\\mcalderonloor\\Anaconda3\\lib\\site-packages\\scipy\\stats\\_distn_infrastructure.py:903: RuntimeWarning: invalid value encountered in less\n",
      "  return (a < x) & (x < b)\n",
      "C:\\Users\\mcalderonloor\\Anaconda3\\lib\\site-packages\\scipy\\stats\\_distn_infrastructure.py:1912: RuntimeWarning: invalid value encountered in less_equal\n",
      "  cond2 = cond0 & (x <= _a)\n"
     ]
    }
   ],
   "source": [
    "dsr1 = dsr[dsr[:,40] <80, :]\n",
    "plots_pd1 = plots_pd[plots_pd['VT__m3_'] < 80]\n",
    "\n",
    "for i in range(0,40):\n",
    "    corr, _ = spearmanr(dsr1[:,i], dsr1[:,40])\n",
    "    print(b_f[i],'correlation: %.3f' % corr)\n",
    "    "
   ]
  },
  {
   "cell_type": "code",
   "execution_count": 112,
   "metadata": {
    "ExecuteTime": {
     "end_time": "2021-03-25T14:15:50.685305Z",
     "start_time": "2021-03-25T14:15:42.374940Z"
    }
   },
   "outputs": [
    {
     "data": {
      "image/png": "[encoded data removed]",
      "text/plain": [
       "<Figure size 1440x720 with 6 Axes>"
      ]
     },
     "metadata": {
      "needs_background": "light"
     },
     "output_type": "display_data"
    }
   ],
   "source": [
    "plt.rcParams[\"figure.figsize\"] = (20,10)\n",
    "\n",
    "plt.subplot(2, 3, 1)\n",
    "plt.scatter(plots_pd['B4'],plots_pd['B8A'])\n",
    "plt.title(\"sat\")\n",
    "\n",
    "plt.subplot(2,3, 2)\n",
    "plt.scatter(plots_pd['B7'],plots_pd['VT__m3_'])\n",
    "plt.title(\"B7\")\n",
    "\n",
    "plt.subplot(2,3, 3)\n",
    "plt.scatter(plots_pd['S2_satvi'],plots_pd['VT__m3_'])\n",
    "plt.title(\"S2_satvi\")\n",
    "\n",
    "plt.subplot(2,3, 4)\n",
    "plt.scatter(plots_pd['VV'],plots_pd['VT__m3_'])\n",
    "plt.title(\"VV\")\n",
    "\n",
    "plt.subplot(2,3, 5)\n",
    "plt.scatter(plots_pd['B8A'],plots_pd['VT__m3_'])\n",
    "plt.title(\"B8A\")\n",
    "\n",
    "plt.subplot(2,3, 6)\n",
    "plt.scatter(plots_pd['S2_lai'],plots_pd['VT__m3_'])\n",
    "plt.title(\"S2_lai\")\n",
    "\n",
    "plt.show()\n",
    "\n",
    "#((b11-RED) / (b11+RED+0.5))* 1.5 - (b12/2)\n"
   ]
  },
  {
   "cell_type": "code",
   "execution_count": 51,
   "metadata": {
    "ExecuteTime": {
     "end_time": "2021-03-25T02:15:16.513319Z",
     "start_time": "2021-03-25T02:15:14.694707Z"
    }
   },
   "outputs": [],
   "source": [
    "plots_pd1 = plot_pd[plots_pd['VT__m3_'] < 80]\n",
    "\n",
    "labels = np.array(plots_pd['VT__m3_'])\n",
    "\n",
    "# Remove the labels from the features\n",
    "# axis 1 refers to the columns\n",
    "features= plots_pd.drop(['angle','Age','DBH__cm_','HT__m_','BA__m2_','QA10','QA20','QA60','VT__m3_','B9','B11'], axis = 1)\n",
    "\n",
    "# Saving feature names for later use\n",
    "feature_list = list(features.columns)\n",
    "\n",
    "# Convert to numpy array\n",
    "features = np.array(features)\n",
    "\n",
    "from sklearn.model_selection import train_test_split\n",
    "from sklearn.ensemble import RandomForestRegressor\n",
    "from sklearn import metrics\n",
    "\n",
    "# Split the data into training and testing sets\n",
    "train_features, test_features, train_labels, test_labels = train_test_split(features, labels, test_size = 0.2,\n",
    "                                                                            random_state = 55)\n",
    "\n",
    "# Instantiate model \n",
    "rf = RandomForestRegressor(n_estimators= 250, random_state=55)\n",
    "\n",
    "# Train the model on training data\n",
    "rf.fit(train_features, train_labels)\n",
    "\n",
    "y_pred = rf.predict(test_features)\n"
   ]
  },
  {
   "cell_type": "code",
   "execution_count": 111,
   "metadata": {
    "ExecuteTime": {
     "end_time": "2021-03-25T14:06:30.672343Z",
     "start_time": "2021-03-25T14:06:30.636527Z"
    }
   },
   "outputs": [
    {
     "name": "stdout",
     "output_type": "stream",
     "text": [
      "Mean Absolute Error: 6.067058503401361\n",
      "Mean Squared Error: 70.9778800401167\n",
      "Root Mean Squared Error: 8.424837092793943\n",
      "Normalized Root Mean Squared Error: 0.19902981027389735\n"
     ]
    }
   ],
   "source": [
    "#X_train, X_test, y_train, y_test =\n",
    "print('Mean Absolute Error:', metrics.mean_absolute_error(test_labels, y_pred))\n",
    "print('Mean Squared Error:', metrics.mean_squared_error(test_labels, y_pred))\n",
    "print('Root Mean Squared Error:', np.sqrt(metrics.mean_squared_error(test_labels, y_pred)))\n",
    "\n",
    "rrmse = np.sqrt(metrics.mean_squared_error(test_labels, y_pred))\n",
    "def nrmse(predictions, targets):\n",
    "    rrmse = np.sqrt(((predictions - targets) ** 2).mean())\n",
    "    return rrmse/np.mean(targets)\n",
    "\n",
    "rrmse1 = nrmse(y_pred,test_labels)\n",
    "print('Normalized Root Mean Squared Error:', rrmse1)"
   ]
  },
  {
   "cell_type": "code",
   "execution_count": null,
   "metadata": {},
   "outputs": [],
   "source": []
  },
  {
   "cell_type": "code",
   "execution_count": 53,
   "metadata": {
    "ExecuteTime": {
     "end_time": "2021-03-25T02:15:21.031236Z",
     "start_time": "2021-03-25T02:15:20.939293Z"
    }
   },
   "outputs": [
    {
     "name": "stdout",
     "output_type": "stream",
     "text": [
      "Variable: S2_satvi                       Importance: 0.17\n",
      "Variable: B7                             Importance: 0.13\n",
      "Variable: B8A                            Importance: 0.11\n",
      "Variable: B6                             Importance: 0.1\n",
      "Variable: B8                             Importance: 0.06\n",
      "Variable: S2_grvi                        Importance: 0.05\n",
      "Variable: B1                             Importance: 0.04\n",
      "Variable: VV                             Importance: 0.03\n",
      "Variable: B4                             Importance: 0.03\n",
      "Variable: B5                             Importance: 0.03\n",
      "Variable: S2_ndre1                       Importance: 0.03\n",
      "Variable: S2_lai                         Importance: 0.03\n",
      "Variable: B2                             Importance: 0.02\n",
      "Variable: B3                             Importance: 0.02\n",
      "Variable: B10                            Importance: 0.02\n",
      "Variable: B12                            Importance: 0.02\n",
      "Variable: S2_gndvi                       Importance: 0.02\n",
      "Variable: S2_nreg1                       Importance: 0.02\n",
      "Variable: S2_ndi45                       Importance: 0.02\n",
      "Variable: S2_evi                         Importance: 0.01\n",
      "Variable: S2_osavi                       Importance: 0.01\n",
      "Variable: S2_dvi                         Importance: 0.01\n",
      "Variable: S2_ireci                       Importance: 0.01\n",
      "Variable: S2_ndvi                        Importance: 0.0\n",
      "Variable: S2_nrer1                       Importance: 0.0\n",
      "Variable: S2_evi2                        Importance: 0.0\n",
      "Variable: S2_savi                        Importance: 0.0\n",
      "Variable: S2_rvi                         Importance: 0.0\n",
      "Variable: S2_bsi                         Importance: 0.0\n",
      "Variable: S2_msavi2                      Importance: 0.0\n"
     ]
    }
   ],
   "source": [
    "importances = list(rf.feature_importances_)\n",
    "\n",
    "# List of tuples with variable and importance\n",
    "feature_importances = [(feature, round(importance, 2)) for feature, importance in zip(feature_list, importances)]\n",
    "\n",
    "# Sort the feature importances by most important first\n",
    "feature_importances = sorted(feature_importances, key = lambda x: x[1], reverse = True)\n",
    "\n",
    "# Print out the feature and importances \n",
    "[print('Variable: {:30} Importance: {}'.format(*pair)) for pair in feature_importances];"
   ]
  },
  {
   "cell_type": "code",
   "execution_count": 54,
   "metadata": {
    "ExecuteTime": {
     "end_time": "2021-03-25T02:17:32.068831Z",
     "start_time": "2021-03-25T02:17:31.577515Z"
    }
   },
   "outputs": [
    {
     "data": {
      "image/png": "[encoded data removed]",
      "text/plain": [
       "<Figure size 432x288 with 1 Axes>"
      ]
     },
     "metadata": {
      "needs_background": "light"
     },
     "output_type": "display_data"
    }
   ],
   "source": [
    "plt.plot(test_labels, y_pred, 'o', color='black');"
   ]
  },
  {
   "cell_type": "code",
   "execution_count": 59,
   "metadata": {
    "ExecuteTime": {
     "end_time": "2021-03-25T03:03:43.445477Z",
     "start_time": "2021-03-25T03:03:43.422446Z"
    }
   },
   "outputs": [],
   "source": [
    "from sklearn.model_selection import RandomizedSearchCV# Number of trees in random forest\n",
    "n_estimators = [int(x) for x in np.linspace(start = 100, stop = 1000, num = 10)]\n",
    "# Number of features to consider at every split\n",
    "max_features = ['auto', 'sqrt']\n",
    "# Maximum number of levels in tree\n",
    "max_depth = [int(x) for x in np.linspace(10, 110, num = 11)]\n",
    "max_depth.append(None)\n",
    "# Minimum number of samples required to split a node\n",
    "min_samples_split = [2, 5, 10]\n",
    "# Minimum number of samples required at each leaf node\n",
    "min_samples_leaf = [1, 2, 4]\n",
    "# Method of selecting samples for training each tree\n",
    "bootstrap = [True, False]# Create the random grid\n",
    "random_grid = {'n_estimators': n_estimators,\n",
    "               'max_features': max_features,\n",
    "               'max_depth': max_depth,\n",
    "               'min_samples_split': min_samples_split,\n",
    "               'min_samples_leaf': min_samples_leaf,\n",
    "               'bootstrap': bootstrap}"
   ]
  },
  {
   "cell_type": "code",
   "execution_count": 60,
   "metadata": {
    "ExecuteTime": {
     "end_time": "2021-03-25T03:08:40.658842Z",
     "start_time": "2021-03-25T03:04:47.185438Z"
    }
   },
   "outputs": [
    {
     "name": "stdout",
     "output_type": "stream",
     "text": [
      "Fitting 3 folds for each of 100 candidates, totalling 300 fits\n"
     ]
    },
    {
     "name": "stderr",
     "output_type": "stream",
     "text": [
      "[Parallel(n_jobs=-1)]: Using backend LokyBackend with 4 concurrent workers.\n",
      "[Parallel(n_jobs=-1)]: Done  33 tasks      | elapsed:   26.1s\n",
      "[Parallel(n_jobs=-1)]: Done 154 tasks      | elapsed:  1.9min\n",
      "[Parallel(n_jobs=-1)]: Done 300 out of 300 | elapsed:  3.9min finished\n"
     ]
    },
    {
     "data": {
      "text/plain": [
       "RandomizedSearchCV(cv=3, error_score=nan,\n",
       "                   estimator=RandomForestRegressor(bootstrap=True,\n",
       "                                                   ccp_alpha=0.0,\n",
       "                                                   criterion='mse',\n",
       "                                                   max_depth=None,\n",
       "                                                   max_features='auto',\n",
       "                                                   max_leaf_nodes=None,\n",
       "                                                   max_samples=None,\n",
       "                                                   min_impurity_decrease=0.0,\n",
       "                                                   min_impurity_split=None,\n",
       "                                                   min_samples_leaf=1,\n",
       "                                                   min_samples_split=2,\n",
       "                                                   min_weight_fraction_leaf=0.0,\n",
       "                                                   n_estimators=100,\n",
       "                                                   n_jobs=None, oob_score=Fals...\n",
       "                   iid='deprecated', n_iter=100, n_jobs=-1,\n",
       "                   param_distributions={'bootstrap': [True, False],\n",
       "                                        'max_depth': [10, 20, 30, 40, 50, 60,\n",
       "                                                      70, 80, 90, 100, 110,\n",
       "                                                      None],\n",
       "                                        'max_features': ['auto', 'sqrt'],\n",
       "                                        'min_samples_leaf': [1, 2, 4],\n",
       "                                        'min_samples_split': [2, 5, 10],\n",
       "                                        'n_estimators': [100, 200, 300, 400,\n",
       "                                                         500, 600, 700, 800,\n",
       "                                                         900, 1000]},\n",
       "                   pre_dispatch='2*n_jobs', random_state=42, refit=True,\n",
       "                   return_train_score=False, scoring=None, verbose=2)"
      ]
     },
     "execution_count": 60,
     "metadata": {},
     "output_type": "execute_result"
    }
   ],
   "source": [
    "# Use the random grid to search for best hyperparameters\n",
    "# First create the base model to tune\n",
    "rfa = RandomForestRegressor()\n",
    "# Random search of parameters, using 3 fold cross validation, \n",
    "# search across 100 different combinations, and use all available cores\n",
    "rf_random = RandomizedSearchCV(estimator = rfa, param_distributions = random_grid, n_iter = 100, cv = 3, verbose=2, random_state=42, n_jobs = -1)# Fit the random search model\n",
    "rf_random.fit(train_features, train_labels)"
   ]
  },
  {
   "cell_type": "code",
   "execution_count": 83,
   "metadata": {
    "ExecuteTime": {
     "end_time": "2021-03-25T03:39:22.674360Z",
     "start_time": "2021-03-25T03:39:20.768612Z"
    }
   },
   "outputs": [
    {
     "name": "stdout",
     "output_type": "stream",
     "text": [
      "Model Performance\n",
      "Average Error: 6.0671 degrees.\n",
      "RMSE:  8.424837092793943\n",
      "NRMSE:  0.19902981027389735\n",
      "Model Performance\n",
      "Average Error: 6.3298 degrees.\n",
      "RMSE:  9.076746107791369\n",
      "NRMSE:  0.21443062172481073\n"
     ]
    }
   ],
   "source": [
    "def evaluate(model, test_features, test_labels):\n",
    "    predictions = model.predict(test_features)\n",
    "    errors = abs(predictions - test_labels)\n",
    "    mape = 100 * np.mean(errors / test_labels)\n",
    "    #accuracy = 100 - mape\n",
    "    rrmse = np.sqrt(metrics.mean_squared_error(test_labels, predictions))\n",
    "    nrmse = rrmse / np.mean(test_labels)\n",
    "    print('Model Performance')\n",
    "    print('Average Error: {:0.4f} degrees.'.format(np.mean(errors)))\n",
    "    #print('Accuracy = {:0.2f}%.'.format(accuracy))\n",
    "    print('RMSE: ', rrmse)\n",
    "    print('NRMSE: ', nrmse)    \n",
    "    return RandomForestRegressor(n_estimators = 10, random_state = 42)\n",
    "\n",
    "rf.fit(train_features, train_labels)\n",
    "base_accuracy = evaluate(rf, test_features, test_labels)\n",
    "\n",
    "best_random = rf_random.best_estimator_\n",
    "random_accuracy = evaluate(best_random, test_features, test_labels)\n"
   ]
  },
  {
   "cell_type": "code",
   "execution_count": 78,
   "metadata": {
    "ExecuteTime": {
     "end_time": "2021-03-25T03:22:38.745756Z",
     "start_time": "2021-03-25T03:22:38.736556Z"
    }
   },
   "outputs": [
    {
     "data": {
      "text/plain": [
       "{'n_estimators': 200,\n",
       " 'min_samples_split': 2,\n",
       " 'min_samples_leaf': 4,\n",
       " 'max_features': 'sqrt',\n",
       " 'max_depth': 10,\n",
       " 'bootstrap': True}"
      ]
     },
     "execution_count": 78,
     "metadata": {},
     "output_type": "execute_result"
    }
   ],
   "source": [
    "rf_random.best_params_"
   ]
  },
  {
   "cell_type": "code",
   "execution_count": 79,
   "metadata": {
    "ExecuteTime": {
     "end_time": "2021-03-25T03:26:09.433699Z",
     "start_time": "2021-03-25T03:26:09.411026Z"
    }
   },
   "outputs": [],
   "source": [
    "from sklearn.model_selection import GridSearchCV# Create the parameter grid based on the results of random search \n",
    "param_grid = {\n",
    "    'bootstrap': [True],\n",
    "    'max_depth': [5, 7, 9, 10, 11, 12],\n",
    "    'max_features': ['sqrt'],\n",
    "    'min_samples_leaf': [1, 3, 4, 5, 10],\n",
    "    'min_samples_split': [1, 2, 3, 5],\n",
    "    'n_estimators': [150, 200, 350, 300]\n",
    "}# Create a based model\n",
    "rfb = RandomForestRegressor()# Instantiate the grid search model\n",
    "grid_search = GridSearchCV(estimator = rfb, param_grid = param_grid, \n",
    "                          cv = 3, n_jobs = -1, verbose = 2)"
   ]
  },
  {
   "cell_type": "code",
   "execution_count": 80,
   "metadata": {
    "ExecuteTime": {
     "end_time": "2021-03-25T03:34:43.655902Z",
     "start_time": "2021-03-25T03:26:35.420466Z"
    }
   },
   "outputs": [
    {
     "name": "stdout",
     "output_type": "stream",
     "text": [
      "Fitting 3 folds for each of 480 candidates, totalling 1440 fits\n"
     ]
    },
    {
     "name": "stderr",
     "output_type": "stream",
     "text": [
      "[Parallel(n_jobs=-1)]: Using backend LokyBackend with 4 concurrent workers.\n",
      "[Parallel(n_jobs=-1)]: Done  33 tasks      | elapsed:   13.3s\n",
      "[Parallel(n_jobs=-1)]: Done 154 tasks      | elapsed:   41.8s\n",
      "[Parallel(n_jobs=-1)]: Done 357 tasks      | elapsed:  1.9min\n",
      "[Parallel(n_jobs=-1)]: Done 640 tasks      | elapsed:  3.2min\n",
      "[Parallel(n_jobs=-1)]: Done 1005 tasks      | elapsed:  5.2min\n",
      "[Parallel(n_jobs=-1)]: Done 1440 out of 1440 | elapsed:  8.1min finished\n"
     ]
    },
    {
     "data": {
      "text/plain": [
       "{'bootstrap': True,\n",
       " 'max_depth': 11,\n",
       " 'max_features': 'sqrt',\n",
       " 'min_samples_leaf': 5,\n",
       " 'min_samples_split': 5,\n",
       " 'n_estimators': 300}"
      ]
     },
     "execution_count": 80,
     "metadata": {},
     "output_type": "execute_result"
    }
   ],
   "source": [
    "grid_search.fit(train_features, train_labels)\n",
    "grid_search.best_params_"
   ]
  },
  {
   "cell_type": "code",
   "execution_count": 81,
   "metadata": {
    "ExecuteTime": {
     "end_time": "2021-03-25T03:38:51.986547Z",
     "start_time": "2021-03-25T03:38:51.914186Z"
    }
   },
   "outputs": [
    {
     "name": "stdout",
     "output_type": "stream",
     "text": [
      "Model Performance\n",
      "Average Error: 6.2846 degrees.\n",
      "Accuracy = 76.68%.\n",
      "RMSE:  9.17182324068951\n",
      "NRMSE:  0.21667674037537657\n"
     ]
    }
   ],
   "source": [
    "best_grid = grid_search.best_estimator_\n",
    "grid_accuracy = evaluate(best_grid, test_features, test_labels)"
   ]
  }
 ],
 "metadata": {
  "kernelspec": {
   "display_name": "Python 3",
   "language": "python",
   "name": "python3"
  },
  "language_info": {
   "codemirror_mode": {
    "name": "ipython",
    "version": 3
   },
   "file_extension": ".py",
   "mimetype": "text/x-python",
   "name": "python",
   "nbconvert_exporter": "python",
   "pygments_lexer": "ipython3",
   "version": "3.7.6"
  },
  "varInspector": {
   "cols": {
    "lenName": 16,
    "lenType": 16,
    "lenVar": 40
   },
   "kernels_config": {
    "python": {
     "delete_cmd_postfix": "",
     "delete_cmd_prefix": "del ",
     "library": "var_list.py",
     "varRefreshCmd": "print(var_dic_list())"
    },
    "r": {
     "delete_cmd_postfix": ") ",
     "delete_cmd_prefix": "rm(",
     "library": "var_list.r",
     "varRefreshCmd": "cat(var_dic_list()) "
    }
   },
   "oldHeight": 416.25,
   "position": {
    "height": "40px",
    "left": "1266px",
    "right": "20px",
    "top": "120px",
    "width": "250px"
   },
   "types_to_exclude": [
    "module",
    "function",
    "builtin_function_or_method",
    "instance",
    "_Feature"
   ],
   "varInspector_section_display": "none",
   "window_display": true
  }
 },
 "nbformat": 4,
 "nbformat_minor": 4
}
