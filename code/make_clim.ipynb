{
 "cells": [
  {
   "cell_type": "code",
   "execution_count": 3,
   "metadata": {},
   "outputs": [
    {
     "ename": "NameError",
     "evalue": "name 'call' is not defined",
     "output_type": "error",
     "traceback": [
      "\u001b[1;31m---------------------------------------------------------------------------\u001b[0m",
      "\u001b[1;31mNameError\u001b[0m                                 Traceback (most recent call last)",
      "\u001b[1;32m<ipython-input-3-4d3a5de16f7e>\u001b[0m in \u001b[0;36m<module>\u001b[1;34m\u001b[0m\n\u001b[0;32m      5\u001b[0m \u001b[0mee\u001b[0m\u001b[1;33m.\u001b[0m\u001b[0mInitialize\u001b[0m\u001b[1;33m(\u001b[0m\u001b[1;33m)\u001b[0m\u001b[1;33m\u001b[0m\u001b[1;33m\u001b[0m\u001b[0m\n\u001b[0;32m      6\u001b[0m \u001b[1;33m\u001b[0m\u001b[0m\n\u001b[1;32m----> 7\u001b[1;33m \u001b[0maxa\u001b[0m \u001b[1;33m=\u001b[0m \u001b[0mcall\u001b[0m\u001b[1;33m(\u001b[0m\u001b[1;34m'users/mioash/modules:/make_clim'\u001b[0m\u001b[1;33m)\u001b[0m\u001b[1;33m;\u001b[0m\u001b[1;33m\u001b[0m\u001b[1;33m\u001b[0m\u001b[0m\n\u001b[0m",
      "\u001b[1;31mNameError\u001b[0m: name 'call' is not defined"
     ]
    }
   ],
   "source": [
    "import ee \n",
    "from ee import batch\n",
    "\n",
    "# Initialize the Earth Engine object, using the authentication credentials.\n",
    "ee.Initialize()\n",
    "\n",
    "\n"
   ]
  },
  {
   "cell_type": "code",
   "execution_count": 26,
   "metadata": {},
   "outputs": [],
   "source": [
    "\n",
    "        \n",
    "def make_climate(image,y_ini,y_end,redcr,varname):\n",
    "    \n",
    "        \n",
    "    def long_term (image,lm,renam,ini,end,redc):\n",
    "        if renam == 'DJF':\n",
    "            M1 = ee.List([ee.Image(image.get(ini-1983)).select(ee.String(lm.get(0))).rename(renam)])\n",
    "            M2 = ee.List([ee.Image(image.get(ini-1982)).select(ee.String(lm.get(1))).rename(renam)])\n",
    "            M3 = ee.List([ee.Image(image.get(ini-1982)).select(ee.String(lm.get(2))).rename(renam)])\n",
    "        else:\n",
    "            M1 = ee.List([ee.Image(image.get(ini-1982)).select(ee.String(lm.get(0))).rename(renam)])\n",
    "            M2 = ee.List([ee.Image(image.get(ini-1982)).select(ee.String(lm.get(1))).rename(renam)])\n",
    "            M3 = ee.List([ee.Image(image.get(ini-1982)).select(ee.String(lm.get(2))).rename(renam)])\n",
    "        imc = ee.ImageCollection(M1).merge(ee.ImageCollection(M2)).merge(ee.ImageCollection(M3))\n",
    "        if image==rain:\n",
    "            seas = ee.List([imc.sum()])\n",
    "        else:\n",
    "            seas = ee.List([imc.mean()])\n",
    "        if renam=='DJF':\n",
    "            for i in range (ini-1981,end-1981):\n",
    "                MM1 = ee.List([ee.Image(image.get(i-1)).select(ee.String(lm.get(0))).rename(renam)])\n",
    "                MM2 = ee.List([ee.Image(image.get(i)).select(ee.String(lm.get(1))).rename(renam)])\n",
    "                MM3 = ee.List([ee.Image(image.get(i)).select(ee.String(lm.get(2))).rename(renam)])\n",
    "                imc = ee.ImageCollection(MM1).merge(ee.ImageCollection(MM2)).merge(ee.ImageCollection(MM3))\n",
    "                if image==rain:\n",
    "                    seas1 = ee.List([imc.sum()])\n",
    "                else:\n",
    "                    seas1 = ee.List([imc.mean()])\n",
    "            seas = seas.cat(seas1)\n",
    "        else:\n",
    "            for j in (ini-1982,end-1982):\n",
    "                MM1 = ee.List([ee.Image(image.get(j)).select(ee.String(lm.get(0))).rename(renam)])\n",
    "                MM2 = ee.List([ee.Image(image.get(j)).select(ee.String(lm.get(1))).rename(renam)])\n",
    "                MM3 = ee.List([ee.Image(image.get(j)).select(ee.String(lm.get(2))).rename(renam)])\n",
    "                imc = ee.ImageCollection(MM1).merge(ee.ImageCollection(MM2)).merge(ee.ImageCollection(MM3))\n",
    "                if image==rain:\n",
    "                    seas1 = ee.List([imc.sum()])\n",
    "                else:\n",
    "                    seas1 = ee.List([imc.mean()])\n",
    "                seas = seas.cat(seas1)\n",
    "        return ee.ImageCollection(seas).reduce(redc)\n",
    "\n",
    "    def make_clim (imagea,y_inia,y_enda,redcra,varnamea):\n",
    "        v_DJF = long_term(image,ee.List(['b12','b1','b2']),'DJF',y_ini,y_end,redcr).rename(varname+'_djf_'+str(y_end))\n",
    "        v_MAM = long_term(image,ee.List(['b3','b4','b5']),'MAM',y_ini,y_end,redcr).rename(varname+'_mam_'+str(y_end))\n",
    "        v_JJA = long_term(image,ee.List(['b6','b7','b8']),'JJA',y_ini,y_end,redcr).rename(varname+'_jja_'+str(y_end))\n",
    "        v_SON = long_term(image,ee.List(['b9','b10','b11']),'SON',y_ini,y_end,redcr).rename(varname+'_son_'+str(y_end))\n",
    "        if image==rain:\n",
    "            v_year = v_DJF.add(v_MAM).add(v_JJA).add(v_SON).rename(varname+'_year_'+str(y_end))\n",
    "        else:\n",
    "            v_year = v_DJF.add(v_MAM).add(v_JJA).add(v_SON).divide(4).rename(varname+'_year_'+str(y_end))\n",
    "        im_out = ee.ImageCollection([v_DJF,v_MAM,v_JJA,v_SON,v_year])\n",
    "        return im_out\n",
    "    return make_clim (image,y_ini,y_end,redcr,varname)"
   ]
  },
  {
   "cell_type": "code",
   "execution_count": 30,
   "metadata": {},
   "outputs": [
    {
     "name": "stdout",
     "output_type": "stream",
     "text": [
      "['0_rain_djf_2010', '1_rain_mam_2010', '2_rain_jja_2010', '3_rain_son_2010', '4_rain_year_2010']\n"
     ]
    }
   ],
   "source": [
    "#rain_mean = make_climate(rain,1983,2010,ee.Reducer.mean(),'rain')\n",
    "\n",
    "#print(rain_mean.toBands().bandNames().getInfo())"
   ]
  }
 ],
 "metadata": {
  "kernelspec": {
   "display_name": "Python 3",
   "language": "python",
   "name": "python3"
  },
  "language_info": {
   "codemirror_mode": {
    "name": "ipython",
    "version": 3
   },
   "file_extension": ".py",
   "mimetype": "text/x-python",
   "name": "python",
   "nbconvert_exporter": "python",
   "pygments_lexer": "ipython3",
   "version": "3.7.6"
  }
 },
 "nbformat": 4,
 "nbformat_minor": 4
}
