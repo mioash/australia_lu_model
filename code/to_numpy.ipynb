{
 "cells": [
  {
   "cell_type": "code",
   "execution_count": null,
   "metadata": {},
   "outputs": [],
   "source": [
    "import ee \n",
    "from ee import batch\n",
    "import geemap\n",
    "# Initialize the Earth Engine object, using the authentication credentials.\n",
    "ee.Initialize()\n",
    "\n",
    "from add_property import add_prop\n",
    "from allocator import allocate\n",
    "from mask_image import define_image\n",
    "\n",
    "urb = ee.Image(\"users/mioash/Calderon_etal_Australian_land-cover/Tas_lc2010_test1_urban\")\n",
    "urb = urb.unmask(urb.focal_mean(8)).unmask(urb.focal_mean(8))\n",
    "crop = ee.Image(\"users/mioash/Calderon_etal_Australian_land-cover/Tas_lc2010_test1_crop\")\n",
    "crop = crop.unmask(crop.focal_mean(8)).unmask(crop.focal_mean(8))\n",
    "forest = ee.Image(\"users/mioash/Calderon_etal_Australian_land-cover/Tas_lc2010_test1_forest\")\n",
    "forest = forest.unmask(forest.focal_mean(8)).unmask(forest.focal_mean(8))\n",
    "grass = ee.Image(\"users/mioash/Calderon_etal_Australian_land-cover/Tas_lc2010_test1_grass\")\n",
    "grass = grass.unmask(grass.focal_mean(8)).unmask(grass.focal_mean(8))\n",
    "\n",
    "Landcover_vispar = {\"opacity\":1,\"min\":0,\"max\":5,\"palette\":[\"FFEE88\",\"55AA22\",\"DDCC66\",\"BB0011\",\"5566AA\",\"882255\"]}\n",
    "lc_aus = ee.Image(\"users/mioash/Calderon_etal_Australian_land-cover/Lc_Aus_1985_2015_v1\")\n",
    "ent_aus = ee.Image(\"users/mioash/Calderon_etal_Australian_land-cover/Australia_ent_v1\")\n",
    "Entropy_vispar = {\"max\":1.8,\"palette\":[\"d6ced0\",\"008350\",\"000000\"]}\n",
    "margin_of_victory = ee.Image(\"users/mioash/Calderon_etal_Australian_land-cover/margin_of_victory\")\n",
    "mov_vispar = {\"min\":0,\"max\":10000,\"palette\":[\"d7191c\",\"fdae61\",\"ffffbf\",\"abd9e9\",\"2c7bb6\"]}\n",
    "\n",
    "tas_sa2 = ee.FeatureCollection(\"users/mioash/transitions/tas_sa2_pixels\")\n",
    "tas_sa2_summary = ee.FeatureCollection(\"users/mioash/transitions/tas_summary_sa2\")\n",
    "sa2 = ee.FeatureCollection(\"users/mioash/drivers_lcaus/boundaries/SA2\")\n"
   ]
  }
 ],
 "metadata": {
  "kernelspec": {
   "display_name": "Python 3",
   "language": "python",
   "name": "python3"
  },
  "language_info": {
   "codemirror_mode": {
    "name": "ipython",
    "version": 3
   },
   "file_extension": ".py",
   "mimetype": "text/x-python",
   "name": "python",
   "nbconvert_exporter": "python",
   "pygments_lexer": "ipython3",
   "version": "3.7.6"
  }
 },
 "nbformat": 4,
 "nbformat_minor": 4
}
