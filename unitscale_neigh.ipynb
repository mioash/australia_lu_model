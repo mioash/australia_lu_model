{
 "cells": [
  {
   "cell_type": "code",
   "execution_count": 3,
   "metadata": {},
   "outputs": [
    {
     "name": "stdout",
     "output_type": "stream",
     "text": [
      "{'type': 'Image', 'bands': [{'id': 'distto_0', 'data_type': {'type': 'PixelType', 'precision': 'int', 'min': 0, 'max': 255}, 'dimensions': [171581, 126163], 'crs': 'EPSG:4326', 'crs_transform': [0.00026949458523585647, 0, 108.7599297636346, 0, -0.00026949458523585647, -9.99986607976169]}, {'id': 'distto_1', 'data_type': {'type': 'PixelType', 'precision': 'int', 'min': 0, 'max': 255}, 'dimensions': [171581, 126163], 'crs': 'EPSG:4326', 'crs_transform': [0.00026949458523585647, 0, 108.7599297636346, 0, -0.00026949458523585647, -9.99986607976169]}, {'id': 'distto_2', 'data_type': {'type': 'PixelType', 'precision': 'int', 'min': 0, 'max': 255}, 'dimensions': [171581, 126163], 'crs': 'EPSG:4326', 'crs_transform': [0.00026949458523585647, 0, 108.7599297636346, 0, -0.00026949458523585647, -9.99986607976169]}, {'id': 'distto_3', 'data_type': {'type': 'PixelType', 'precision': 'int', 'min': 0, 'max': 255}, 'dimensions': [171581, 126163], 'crs': 'EPSG:4326', 'crs_transform': [0.00026949458523585647, 0, 108.7599297636346, 0, -0.00026949458523585647, -9.99986607976169]}, {'id': 'distto_4', 'data_type': {'type': 'PixelType', 'precision': 'int', 'min': 0, 'max': 255}, 'dimensions': [171581, 126163], 'crs': 'EPSG:4326', 'crs_transform': [0.00026949458523585647, 0, 108.7599297636346, 0, -0.00026949458523585647, -9.99986607976169]}, {'id': 'distto_npa', 'data_type': {'type': 'PixelType', 'precision': 'int', 'min': 0, 'max': 255}, 'dimensions': [171581, 126163], 'crs': 'EPSG:4326', 'crs_transform': [0.00026949458523585647, 0, 108.7599297636346, 0, -0.00026949458523585647, -9.99986607976169]}, {'id': 'dist_roads', 'data_type': {'type': 'PixelType', 'precision': 'int', 'min': 0, 'max': 255}, 'dimensions': [171581, 126163], 'crs': 'EPSG:4326', 'crs_transform': [0.00026949458523585647, 0, 108.7599297636346, 0, -0.00026949458523585647, -9.99986607976169]}, {'id': 'dist_wways', 'data_type': {'type': 'PixelType', 'precision': 'int', 'min': 0, 'max': 255}, 'dimensions': [171581, 126163], 'crs': 'EPSG:4326', 'crs_transform': [0.00026949458523585647, 0, 108.7599297636346, 0, -0.00026949458523585647, -9.99986607976169]}, {'id': 'c_3_nb', 'data_type': {'type': 'PixelType', 'precision': 'int', 'min': 0, 'max': 255}, 'dimensions': [171581, 126163], 'crs': 'EPSG:4326', 'crs_transform': [0.00026949458523585647, 0, 108.7599297636346, 0, -0.00026949458523585647, -9.99986607976169]}, {'id': 'f_3_nb', 'data_type': {'type': 'PixelType', 'precision': 'int', 'min': 0, 'max': 255}, 'dimensions': [171581, 126163], 'crs': 'EPSG:4326', 'crs_transform': [0.00026949458523585647, 0, 108.7599297636346, 0, -0.00026949458523585647, -9.99986607976169]}, {'id': 'g_3_nb', 'data_type': {'type': 'PixelType', 'precision': 'int', 'min': 0, 'max': 255}, 'dimensions': [171581, 126163], 'crs': 'EPSG:4326', 'crs_transform': [0.00026949458523585647, 0, 108.7599297636346, 0, -0.00026949458523585647, -9.99986607976169]}, {'id': 'b_3_nb', 'data_type': {'type': 'PixelType', 'precision': 'int', 'min': 0, 'max': 255}, 'dimensions': [171581, 126163], 'crs': 'EPSG:4326', 'crs_transform': [0.00026949458523585647, 0, 108.7599297636346, 0, -0.00026949458523585647, -9.99986607976169]}, {'id': 'w_3_nb', 'data_type': {'type': 'PixelType', 'precision': 'int', 'min': 0, 'max': 255}, 'dimensions': [171581, 126163], 'crs': 'EPSG:4326', 'crs_transform': [0.00026949458523585647, 0, 108.7599297636346, 0, -0.00026949458523585647, -9.99986607976169]}, {'id': 'o_3_nb', 'data_type': {'type': 'PixelType', 'precision': 'int', 'min': 0, 'max': 255}, 'dimensions': [171581, 126163], 'crs': 'EPSG:4326', 'crs_transform': [0.00026949458523585647, 0, 108.7599297636346, 0, -0.00026949458523585647, -9.99986607976169]}, {'id': 'c_9_3b', 'data_type': {'type': 'PixelType', 'precision': 'int', 'min': 0, 'max': 255}, 'dimensions': [171581, 126163], 'crs': 'EPSG:4326', 'crs_transform': [0.00026949458523585647, 0, 108.7599297636346, 0, -0.00026949458523585647, -9.99986607976169]}, {'id': 'f_9_3b', 'data_type': {'type': 'PixelType', 'precision': 'int', 'min': 0, 'max': 255}, 'dimensions': [171581, 126163], 'crs': 'EPSG:4326', 'crs_transform': [0.00026949458523585647, 0, 108.7599297636346, 0, -0.00026949458523585647, -9.99986607976169]}, {'id': 'g_9_3b', 'data_type': {'type': 'PixelType', 'precision': 'int', 'min': 0, 'max': 255}, 'dimensions': [171581, 126163], 'crs': 'EPSG:4326', 'crs_transform': [0.00026949458523585647, 0, 108.7599297636346, 0, -0.00026949458523585647, -9.99986607976169]}, {'id': 'b_9_3b', 'data_type': {'type': 'PixelType', 'precision': 'int', 'min': 0, 'max': 255}, 'dimensions': [171581, 126163], 'crs': 'EPSG:4326', 'crs_transform': [0.00026949458523585647, 0, 108.7599297636346, 0, -0.00026949458523585647, -9.99986607976169]}, {'id': 'w_9_3b', 'data_type': {'type': 'PixelType', 'precision': 'int', 'min': 0, 'max': 255}, 'dimensions': [171581, 126163], 'crs': 'EPSG:4326', 'crs_transform': [0.00026949458523585647, 0, 108.7599297636346, 0, -0.00026949458523585647, -9.99986607976169]}, {'id': 'o_9_3b', 'data_type': {'type': 'PixelType', 'precision': 'int', 'min': 0, 'max': 255}, 'dimensions': [171581, 126163], 'crs': 'EPSG:4326', 'crs_transform': [0.00026949458523585647, 0, 108.7599297636346, 0, -0.00026949458523585647, -9.99986607976169]}, {'id': 'c_27_9b', 'data_type': {'type': 'PixelType', 'precision': 'int', 'min': 0, 'max': 255}, 'dimensions': [171581, 126163], 'crs': 'EPSG:4326', 'crs_transform': [0.00026949458523585647, 0, 108.7599297636346, 0, -0.00026949458523585647, -9.99986607976169]}, {'id': 'f_27_9b', 'data_type': {'type': 'PixelType', 'precision': 'int', 'min': 0, 'max': 255}, 'dimensions': [171581, 126163], 'crs': 'EPSG:4326', 'crs_transform': [0.00026949458523585647, 0, 108.7599297636346, 0, -0.00026949458523585647, -9.99986607976169]}, {'id': 'g_27_9b', 'data_type': {'type': 'PixelType', 'precision': 'int', 'min': 0, 'max': 255}, 'dimensions': [171581, 126163], 'crs': 'EPSG:4326', 'crs_transform': [0.00026949458523585647, 0, 108.7599297636346, 0, -0.00026949458523585647, -9.99986607976169]}, {'id': 'b_27_9b', 'data_type': {'type': 'PixelType', 'precision': 'int', 'min': 0, 'max': 255}, 'dimensions': [171581, 126163], 'crs': 'EPSG:4326', 'crs_transform': [0.00026949458523585647, 0, 108.7599297636346, 0, -0.00026949458523585647, -9.99986607976169]}, {'id': 'w_27_9b', 'data_type': {'type': 'PixelType', 'precision': 'int', 'min': 0, 'max': 255}, 'dimensions': [171581, 126163], 'crs': 'EPSG:4326', 'crs_transform': [0.00026949458523585647, 0, 108.7599297636346, 0, -0.00026949458523585647, -9.99986607976169]}, {'id': 'o_27_9b', 'data_type': {'type': 'PixelType', 'precision': 'int', 'min': 0, 'max': 255}, 'dimensions': [171581, 126163], 'crs': 'EPSG:4326', 'crs_transform': [0.00026949458523585647, 0, 108.7599297636346, 0, -0.00026949458523585647, -9.99986607976169]}, {'id': 'c_81_27b', 'data_type': {'type': 'PixelType', 'precision': 'int', 'min': 0, 'max': 255}, 'dimensions': [171581, 126163], 'crs': 'EPSG:4326', 'crs_transform': [0.00026949458523585647, 0, 108.7599297636346, 0, -0.00026949458523585647, -9.99986607976169]}, {'id': 'f_81_27b', 'data_type': {'type': 'PixelType', 'precision': 'int', 'min': 0, 'max': 255}, 'dimensions': [171581, 126163], 'crs': 'EPSG:4326', 'crs_transform': [0.00026949458523585647, 0, 108.7599297636346, 0, -0.00026949458523585647, -9.99986607976169]}, {'id': 'g_81_27b', 'data_type': {'type': 'PixelType', 'precision': 'int', 'min': 0, 'max': 255}, 'dimensions': [171581, 126163], 'crs': 'EPSG:4326', 'crs_transform': [0.00026949458523585647, 0, 108.7599297636346, 0, -0.00026949458523585647, -9.99986607976169]}, {'id': 'b_81_27b', 'data_type': {'type': 'PixelType', 'precision': 'int', 'min': 0, 'max': 255}, 'dimensions': [171581, 126163], 'crs': 'EPSG:4326', 'crs_transform': [0.00026949458523585647, 0, 108.7599297636346, 0, -0.00026949458523585647, -9.99986607976169]}, {'id': 'w_81_27b', 'data_type': {'type': 'PixelType', 'precision': 'int', 'min': 0, 'max': 255}, 'dimensions': [171581, 126163], 'crs': 'EPSG:4326', 'crs_transform': [0.00026949458523585647, 0, 108.7599297636346, 0, -0.00026949458523585647, -9.99986607976169]}, {'id': 'o_81_27b', 'data_type': {'type': 'PixelType', 'precision': 'int', 'min': 0, 'max': 255}, 'dimensions': [171581, 126163], 'crs': 'EPSG:4326', 'crs_transform': [0.00026949458523585647, 0, 108.7599297636346, 0, -0.00026949458523585647, -9.99986607976169]}]}\n"
     ]
    }
   ],
   "source": [
    "import ee \n",
    "from ee import batch\n",
    "\n",
    "# Initialize the Earth Engine object, using the authentication credentials.\n",
    "ee.Initialize()\n",
    "\n",
    "distn = ee.Image('users/mioash/drivers_lcaus/Distances_nigh_national_2005')\n",
    "\n",
    "distto = distn.select(['distto_0','distto_1','distto_2','distto_3','distto_4','distto_npa','dist_roads','dist_wways'])\n",
    "distto = distto.unitScale(0,1372959).multiply(255).round().toByte()\n",
    "nneigh = [\"c_3_nb\",  \"f_3_nb\",  \"g_3_nb\",  \"b_3_nb\",  \"w_3_nb\",  \"o_3_nb\",\n",
    "  \"c_9_3b\",  \"f_9_3b\",  \"g_9_3b\",  \"b_9_3b\",  \"w_9_3b\",  \"o_9_3b\",\n",
    "  \"c_27_9b\",  \"f_27_9b\",  \"g_27_9b\",  \"b_27_9b\",  \"w_27_9b\",  \"o_27_9b\",\n",
    "  \"c_81_81b\",  \"f_81_81b\",  \"g_81_81b\",  \"b_81_81b\",  \"w_81_81b\",  \"o_81_81b\"]\n",
    "\n",
    "nneigh1 = [\"c_3_nb\",  \"f_3_nb\",  \"g_3_nb\",  \"b_3_nb\",  \"w_3_nb\",  \"o_3_nb\",\n",
    "  \"c_9_3b\",  \"f_9_3b\",  \"g_9_3b\",  \"b_9_3b\",  \"w_9_3b\",  \"o_9_3b\",\n",
    "  \"c_27_9b\",  \"f_27_9b\",  \"g_27_9b\",  \"b_27_9b\",  \"w_27_9b\",  \"o_27_9b\",\n",
    "  \"c_81_27b\",  \"f_81_27b\",  \"g_81_27b\",  \"b_81_27b\",  \"w_81_27b\",  \"o_81_27b\"]\n",
    "  \n",
    "neigh = distn.select(nneigh).rename(nneigh1)\n",
    "neigh = neigh.unitScale(0,100).multiply(255).round().toByte()\n",
    "\n",
    "distn1 = distto.addBands(neigh).toByte()\n",
    "print(distn1.getInfo())\n",
    "# Export image\n",
    "llx = 108.76 \n",
    "lly = -44 \n",
    "urx = 155 \n",
    "ury = -10  #australia\n",
    "geometri = [[llx,lly], [llx,ury], [urx,ury], [urx,lly]]\n",
    "\n",
    "ee.batch.Export.image.toAsset(image=distn1,\n",
    "                              description='Distances_neigh_national_2005_byte',\n",
    "                              assetId='users/mioash/drivers_lcaus/Distances_nigh_national_2005_byte',scale=30,\n",
    "                             region = geometri,maxPixels=1e13,crs='EPSG:4326').start()\n"
   ]
  }
 ],
 "metadata": {
  "kernelspec": {
   "display_name": "Python 3",
   "language": "python",
   "name": "python3"
  },
  "language_info": {
   "codemirror_mode": {
    "name": "ipython",
    "version": 3
   },
   "file_extension": ".py",
   "mimetype": "text/x-python",
   "name": "python",
   "nbconvert_exporter": "python",
   "pygments_lexer": "ipython3",
   "version": "3.8.5"
  }
 },
 "nbformat": 4,
 "nbformat_minor": 4
}
